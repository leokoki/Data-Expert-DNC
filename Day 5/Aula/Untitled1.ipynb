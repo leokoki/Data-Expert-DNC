{
  "nbformat": 4,
  "nbformat_minor": 0,
  "metadata": {
    "colab": {
      "name": "Untitled1.ipynb",
      "provenance": [],
      "collapsed_sections": []
    },
    "kernelspec": {
      "name": "python3",
      "display_name": "Python 3"
    },
    "language_info": {
      "name": "python"
    }
  },
  "cells": [
    {
      "cell_type": "code",
      "execution_count": 57,
      "metadata": {
        "id": "EMtJFp6_F-AU"
      },
      "outputs": [],
      "source": [
        "import pandas as pd\n",
        "import numpy as np\n",
        "import matplotlib.pyplot as plt\n",
        "import seaborn as sns\n"
      ]
    },
    {
      "cell_type": "code",
      "source": [
        "dataframe = pd.read_csv('Desafio_Business_Analytics.csv',sep=';',encoding='latin-1')"
      ],
      "metadata": {
        "id": "VLj3sjNaGFOG"
      },
      "execution_count": 58,
      "outputs": []
    },
    {
      "cell_type": "code",
      "source": [
        "dataframe.head()"
      ],
      "metadata": {
        "colab": {
          "base_uri": "https://localhost:8080/",
          "height": 206
        },
        "id": "pnqJZ5ghHKiQ",
        "outputId": "1274705c-018b-4308-fc0a-59ac18e667ec"
      },
      "execution_count": 59,
      "outputs": [
        {
          "output_type": "execute_result",
          "data": {
            "text/plain": [
              "   idcompra idcanalvenda bandeira        Data     Preço Preço_com_frete  \\\n",
              "0    393835       Mobile        A  30/03/2021    791,28          791,28   \n",
              "1    411885       Mobile        A  30/03/2021     679,2           679,2   \n",
              "2    437305       Mobile        A  30/03/2021     35,92          37,512   \n",
              "3    440055   Aplicativo        A  30/03/2021  2239,416        2239,416   \n",
              "4    455795       Mobile        B  30/03/2021    1743,2        1785,112   \n",
              "\n",
              "       Nome_Departamento estado  cliente_Log  Idade      Renda Sexo  \n",
              "0  Telefones e Celulares     SP            1     23    5538,96    F  \n",
              "1                Tablets     SP            2     21     4754,4    M  \n",
              "2                  Bebes     SP            3     50    262,584    F  \n",
              "3       TVs e Acessorios     SP            4     31  15675,912    F  \n",
              "4        Esporte e Lazer     RS            5     20  12495,784    F  "
            ],
            "text/html": [
              "\n",
              "  <div id=\"df-6852a9ab-76fd-4bb8-851c-da5df78b6029\">\n",
              "    <div class=\"colab-df-container\">\n",
              "      <div>\n",
              "<style scoped>\n",
              "    .dataframe tbody tr th:only-of-type {\n",
              "        vertical-align: middle;\n",
              "    }\n",
              "\n",
              "    .dataframe tbody tr th {\n",
              "        vertical-align: top;\n",
              "    }\n",
              "\n",
              "    .dataframe thead th {\n",
              "        text-align: right;\n",
              "    }\n",
              "</style>\n",
              "<table border=\"1\" class=\"dataframe\">\n",
              "  <thead>\n",
              "    <tr style=\"text-align: right;\">\n",
              "      <th></th>\n",
              "      <th>idcompra</th>\n",
              "      <th>idcanalvenda</th>\n",
              "      <th>bandeira</th>\n",
              "      <th>Data</th>\n",
              "      <th>Preço</th>\n",
              "      <th>Preço_com_frete</th>\n",
              "      <th>Nome_Departamento</th>\n",
              "      <th>estado</th>\n",
              "      <th>cliente_Log</th>\n",
              "      <th>Idade</th>\n",
              "      <th>Renda</th>\n",
              "      <th>Sexo</th>\n",
              "    </tr>\n",
              "  </thead>\n",
              "  <tbody>\n",
              "    <tr>\n",
              "      <th>0</th>\n",
              "      <td>393835</td>\n",
              "      <td>Mobile</td>\n",
              "      <td>A</td>\n",
              "      <td>30/03/2021</td>\n",
              "      <td>791,28</td>\n",
              "      <td>791,28</td>\n",
              "      <td>Telefones e Celulares</td>\n",
              "      <td>SP</td>\n",
              "      <td>1</td>\n",
              "      <td>23</td>\n",
              "      <td>5538,96</td>\n",
              "      <td>F</td>\n",
              "    </tr>\n",
              "    <tr>\n",
              "      <th>1</th>\n",
              "      <td>411885</td>\n",
              "      <td>Mobile</td>\n",
              "      <td>A</td>\n",
              "      <td>30/03/2021</td>\n",
              "      <td>679,2</td>\n",
              "      <td>679,2</td>\n",
              "      <td>Tablets</td>\n",
              "      <td>SP</td>\n",
              "      <td>2</td>\n",
              "      <td>21</td>\n",
              "      <td>4754,4</td>\n",
              "      <td>M</td>\n",
              "    </tr>\n",
              "    <tr>\n",
              "      <th>2</th>\n",
              "      <td>437305</td>\n",
              "      <td>Mobile</td>\n",
              "      <td>A</td>\n",
              "      <td>30/03/2021</td>\n",
              "      <td>35,92</td>\n",
              "      <td>37,512</td>\n",
              "      <td>Bebes</td>\n",
              "      <td>SP</td>\n",
              "      <td>3</td>\n",
              "      <td>50</td>\n",
              "      <td>262,584</td>\n",
              "      <td>F</td>\n",
              "    </tr>\n",
              "    <tr>\n",
              "      <th>3</th>\n",
              "      <td>440055</td>\n",
              "      <td>Aplicativo</td>\n",
              "      <td>A</td>\n",
              "      <td>30/03/2021</td>\n",
              "      <td>2239,416</td>\n",
              "      <td>2239,416</td>\n",
              "      <td>TVs e Acessorios</td>\n",
              "      <td>SP</td>\n",
              "      <td>4</td>\n",
              "      <td>31</td>\n",
              "      <td>15675,912</td>\n",
              "      <td>F</td>\n",
              "    </tr>\n",
              "    <tr>\n",
              "      <th>4</th>\n",
              "      <td>455795</td>\n",
              "      <td>Mobile</td>\n",
              "      <td>B</td>\n",
              "      <td>30/03/2021</td>\n",
              "      <td>1743,2</td>\n",
              "      <td>1785,112</td>\n",
              "      <td>Esporte e Lazer</td>\n",
              "      <td>RS</td>\n",
              "      <td>5</td>\n",
              "      <td>20</td>\n",
              "      <td>12495,784</td>\n",
              "      <td>F</td>\n",
              "    </tr>\n",
              "  </tbody>\n",
              "</table>\n",
              "</div>\n",
              "      <button class=\"colab-df-convert\" onclick=\"convertToInteractive('df-6852a9ab-76fd-4bb8-851c-da5df78b6029')\"\n",
              "              title=\"Convert this dataframe to an interactive table.\"\n",
              "              style=\"display:none;\">\n",
              "        \n",
              "  <svg xmlns=\"http://www.w3.org/2000/svg\" height=\"24px\"viewBox=\"0 0 24 24\"\n",
              "       width=\"24px\">\n",
              "    <path d=\"M0 0h24v24H0V0z\" fill=\"none\"/>\n",
              "    <path d=\"M18.56 5.44l.94 2.06.94-2.06 2.06-.94-2.06-.94-.94-2.06-.94 2.06-2.06.94zm-11 1L8.5 8.5l.94-2.06 2.06-.94-2.06-.94L8.5 2.5l-.94 2.06-2.06.94zm10 10l.94 2.06.94-2.06 2.06-.94-2.06-.94-.94-2.06-.94 2.06-2.06.94z\"/><path d=\"M17.41 7.96l-1.37-1.37c-.4-.4-.92-.59-1.43-.59-.52 0-1.04.2-1.43.59L10.3 9.45l-7.72 7.72c-.78.78-.78 2.05 0 2.83L4 21.41c.39.39.9.59 1.41.59.51 0 1.02-.2 1.41-.59l7.78-7.78 2.81-2.81c.8-.78.8-2.07 0-2.86zM5.41 20L4 18.59l7.72-7.72 1.47 1.35L5.41 20z\"/>\n",
              "  </svg>\n",
              "      </button>\n",
              "      \n",
              "  <style>\n",
              "    .colab-df-container {\n",
              "      display:flex;\n",
              "      flex-wrap:wrap;\n",
              "      gap: 12px;\n",
              "    }\n",
              "\n",
              "    .colab-df-convert {\n",
              "      background-color: #E8F0FE;\n",
              "      border: none;\n",
              "      border-radius: 50%;\n",
              "      cursor: pointer;\n",
              "      display: none;\n",
              "      fill: #1967D2;\n",
              "      height: 32px;\n",
              "      padding: 0 0 0 0;\n",
              "      width: 32px;\n",
              "    }\n",
              "\n",
              "    .colab-df-convert:hover {\n",
              "      background-color: #E2EBFA;\n",
              "      box-shadow: 0px 1px 2px rgba(60, 64, 67, 0.3), 0px 1px 3px 1px rgba(60, 64, 67, 0.15);\n",
              "      fill: #174EA6;\n",
              "    }\n",
              "\n",
              "    [theme=dark] .colab-df-convert {\n",
              "      background-color: #3B4455;\n",
              "      fill: #D2E3FC;\n",
              "    }\n",
              "\n",
              "    [theme=dark] .colab-df-convert:hover {\n",
              "      background-color: #434B5C;\n",
              "      box-shadow: 0px 1px 3px 1px rgba(0, 0, 0, 0.15);\n",
              "      filter: drop-shadow(0px 1px 2px rgba(0, 0, 0, 0.3));\n",
              "      fill: #FFFFFF;\n",
              "    }\n",
              "  </style>\n",
              "\n",
              "      <script>\n",
              "        const buttonEl =\n",
              "          document.querySelector('#df-6852a9ab-76fd-4bb8-851c-da5df78b6029 button.colab-df-convert');\n",
              "        buttonEl.style.display =\n",
              "          google.colab.kernel.accessAllowed ? 'block' : 'none';\n",
              "\n",
              "        async function convertToInteractive(key) {\n",
              "          const element = document.querySelector('#df-6852a9ab-76fd-4bb8-851c-da5df78b6029');\n",
              "          const dataTable =\n",
              "            await google.colab.kernel.invokeFunction('convertToInteractive',\n",
              "                                                     [key], {});\n",
              "          if (!dataTable) return;\n",
              "\n",
              "          const docLinkHtml = 'Like what you see? Visit the ' +\n",
              "            '<a target=\"_blank\" href=https://colab.research.google.com/notebooks/data_table.ipynb>data table notebook</a>'\n",
              "            + ' to learn more about interactive tables.';\n",
              "          element.innerHTML = '';\n",
              "          dataTable['output_type'] = 'display_data';\n",
              "          await google.colab.output.renderOutput(dataTable, element);\n",
              "          const docLink = document.createElement('div');\n",
              "          docLink.innerHTML = docLinkHtml;\n",
              "          element.appendChild(docLink);\n",
              "        }\n",
              "      </script>\n",
              "    </div>\n",
              "  </div>\n",
              "  "
            ]
          },
          "metadata": {},
          "execution_count": 59
        }
      ]
    },
    {
      "cell_type": "code",
      "source": [
        "dataframe.dtypes"
      ],
      "metadata": {
        "colab": {
          "base_uri": "https://localhost:8080/"
        },
        "id": "oDMcW8GPHh4E",
        "outputId": "83534b7f-6566-4e78-ed69-c8abf2068a73"
      },
      "execution_count": 60,
      "outputs": [
        {
          "output_type": "execute_result",
          "data": {
            "text/plain": [
              "idcompra              int64\n",
              "idcanalvenda         object\n",
              "bandeira             object\n",
              "Data                 object\n",
              "Preço                object\n",
              "Preço_com_frete      object\n",
              "Nome_Departamento    object\n",
              "estado               object\n",
              "cliente_Log           int64\n",
              "Idade                 int64\n",
              "Renda                object\n",
              "Sexo                 object\n",
              "dtype: object"
            ]
          },
          "metadata": {},
          "execution_count": 60
        }
      ]
    },
    {
      "cell_type": "code",
      "source": [
        "dataframe['Preço'] = dataframe['Preço'].str.replace(',','.')\n",
        "dataframe['Preço_com_frete'] = dataframe['Preço_com_frete'].str.replace(',','.')\n",
        "dataframe['Renda'] = dataframe['Renda'].str.replace(',','.')"
      ],
      "metadata": {
        "id": "OKaQllNiKkkB"
      },
      "execution_count": 63,
      "outputs": []
    },
    {
      "cell_type": "code",
      "source": [
        "dataframe['Data'] = pd.to_datetime(dataframe['Data'])\n",
        "dataframe['Preço'] = dataframe['Preço'].astype(float)\n",
        "dataframe['Renda'] = dataframe['Renda'].astype(float)\n",
        "dataframe['idcompra'] = dataframe['idcompra'].astype(str)\n",
        "dataframe['cliente_Log'] = dataframe['cliente_Log'].astype(str)\n",
        "dataframe['Preço_com_frete'] = dataframe['Preço_com_frete'].astype(float)\n",
        "dataframe.dtypes"
      ],
      "metadata": {
        "colab": {
          "base_uri": "https://localhost:8080/"
        },
        "id": "u6CeNWkoHk5P",
        "outputId": "d6a027fc-8070-42d8-eea2-82ce58d4988c"
      },
      "execution_count": 64,
      "outputs": [
        {
          "output_type": "execute_result",
          "data": {
            "text/plain": [
              "idcompra                     object\n",
              "idcanalvenda                 object\n",
              "bandeira                     object\n",
              "Data                 datetime64[ns]\n",
              "Preço                       float64\n",
              "Preço_com_frete             float64\n",
              "Nome_Departamento            object\n",
              "estado                       object\n",
              "cliente_Log                  object\n",
              "Idade                         int64\n",
              "Renda                       float64\n",
              "Sexo                         object\n",
              "dtype: object"
            ]
          },
          "metadata": {},
          "execution_count": 64
        }
      ]
    },
    {
      "cell_type": "code",
      "source": [
        "dataframe.head()"
      ],
      "metadata": {
        "colab": {
          "base_uri": "https://localhost:8080/",
          "height": 206
        },
        "id": "oHeeYP3BH7gz",
        "outputId": "815ee20f-7164-4d59-9017-1fb7f2f82c01"
      },
      "execution_count": null,
      "outputs": [
        {
          "output_type": "execute_result",
          "data": {
            "text/plain": [
              "   idcompra idcanalvenda bandeira       Data     Preco  Preco_com_frete  \\\n",
              "0    393835       Mobile        A 2021-03-30   791.280          791.280   \n",
              "1    411885       Mobile        A 2021-03-30   679.200          679.200   \n",
              "2    437305       Mobile        A 2021-03-30    37.512           37.512   \n",
              "3    440055   Aplicativo        A 2021-03-30  2239.416         2239.416   \n",
              "4    455795       Mobile        B 2021-03-30  1785.112         1785.112   \n",
              "\n",
              "       Nome_Departamento estado  cliente_Log  \n",
              "0  Telefones e Celulares     SP            1  \n",
              "1                Tablets     SP            2  \n",
              "2                  Bebes     SP            3  \n",
              "3       TVs e Acessorios     SP            4  \n",
              "4        Esporte e Lazer     RS            5  "
            ],
            "text/html": [
              "\n",
              "  <div id=\"df-29c6878d-8d7c-425b-aa1d-d7edaabe75d6\">\n",
              "    <div class=\"colab-df-container\">\n",
              "      <div>\n",
              "<style scoped>\n",
              "    .dataframe tbody tr th:only-of-type {\n",
              "        vertical-align: middle;\n",
              "    }\n",
              "\n",
              "    .dataframe tbody tr th {\n",
              "        vertical-align: top;\n",
              "    }\n",
              "\n",
              "    .dataframe thead th {\n",
              "        text-align: right;\n",
              "    }\n",
              "</style>\n",
              "<table border=\"1\" class=\"dataframe\">\n",
              "  <thead>\n",
              "    <tr style=\"text-align: right;\">\n",
              "      <th></th>\n",
              "      <th>idcompra</th>\n",
              "      <th>idcanalvenda</th>\n",
              "      <th>bandeira</th>\n",
              "      <th>Data</th>\n",
              "      <th>Preco</th>\n",
              "      <th>Preco_com_frete</th>\n",
              "      <th>Nome_Departamento</th>\n",
              "      <th>estado</th>\n",
              "      <th>cliente_Log</th>\n",
              "    </tr>\n",
              "  </thead>\n",
              "  <tbody>\n",
              "    <tr>\n",
              "      <th>0</th>\n",
              "      <td>393835</td>\n",
              "      <td>Mobile</td>\n",
              "      <td>A</td>\n",
              "      <td>2021-03-30</td>\n",
              "      <td>791.280</td>\n",
              "      <td>791.280</td>\n",
              "      <td>Telefones e Celulares</td>\n",
              "      <td>SP</td>\n",
              "      <td>1</td>\n",
              "    </tr>\n",
              "    <tr>\n",
              "      <th>1</th>\n",
              "      <td>411885</td>\n",
              "      <td>Mobile</td>\n",
              "      <td>A</td>\n",
              "      <td>2021-03-30</td>\n",
              "      <td>679.200</td>\n",
              "      <td>679.200</td>\n",
              "      <td>Tablets</td>\n",
              "      <td>SP</td>\n",
              "      <td>2</td>\n",
              "    </tr>\n",
              "    <tr>\n",
              "      <th>2</th>\n",
              "      <td>437305</td>\n",
              "      <td>Mobile</td>\n",
              "      <td>A</td>\n",
              "      <td>2021-03-30</td>\n",
              "      <td>37.512</td>\n",
              "      <td>37.512</td>\n",
              "      <td>Bebes</td>\n",
              "      <td>SP</td>\n",
              "      <td>3</td>\n",
              "    </tr>\n",
              "    <tr>\n",
              "      <th>3</th>\n",
              "      <td>440055</td>\n",
              "      <td>Aplicativo</td>\n",
              "      <td>A</td>\n",
              "      <td>2021-03-30</td>\n",
              "      <td>2239.416</td>\n",
              "      <td>2239.416</td>\n",
              "      <td>TVs e Acessorios</td>\n",
              "      <td>SP</td>\n",
              "      <td>4</td>\n",
              "    </tr>\n",
              "    <tr>\n",
              "      <th>4</th>\n",
              "      <td>455795</td>\n",
              "      <td>Mobile</td>\n",
              "      <td>B</td>\n",
              "      <td>2021-03-30</td>\n",
              "      <td>1785.112</td>\n",
              "      <td>1785.112</td>\n",
              "      <td>Esporte e Lazer</td>\n",
              "      <td>RS</td>\n",
              "      <td>5</td>\n",
              "    </tr>\n",
              "  </tbody>\n",
              "</table>\n",
              "</div>\n",
              "      <button class=\"colab-df-convert\" onclick=\"convertToInteractive('df-29c6878d-8d7c-425b-aa1d-d7edaabe75d6')\"\n",
              "              title=\"Convert this dataframe to an interactive table.\"\n",
              "              style=\"display:none;\">\n",
              "        \n",
              "  <svg xmlns=\"http://www.w3.org/2000/svg\" height=\"24px\"viewBox=\"0 0 24 24\"\n",
              "       width=\"24px\">\n",
              "    <path d=\"M0 0h24v24H0V0z\" fill=\"none\"/>\n",
              "    <path d=\"M18.56 5.44l.94 2.06.94-2.06 2.06-.94-2.06-.94-.94-2.06-.94 2.06-2.06.94zm-11 1L8.5 8.5l.94-2.06 2.06-.94-2.06-.94L8.5 2.5l-.94 2.06-2.06.94zm10 10l.94 2.06.94-2.06 2.06-.94-2.06-.94-.94-2.06-.94 2.06-2.06.94z\"/><path d=\"M17.41 7.96l-1.37-1.37c-.4-.4-.92-.59-1.43-.59-.52 0-1.04.2-1.43.59L10.3 9.45l-7.72 7.72c-.78.78-.78 2.05 0 2.83L4 21.41c.39.39.9.59 1.41.59.51 0 1.02-.2 1.41-.59l7.78-7.78 2.81-2.81c.8-.78.8-2.07 0-2.86zM5.41 20L4 18.59l7.72-7.72 1.47 1.35L5.41 20z\"/>\n",
              "  </svg>\n",
              "      </button>\n",
              "      \n",
              "  <style>\n",
              "    .colab-df-container {\n",
              "      display:flex;\n",
              "      flex-wrap:wrap;\n",
              "      gap: 12px;\n",
              "    }\n",
              "\n",
              "    .colab-df-convert {\n",
              "      background-color: #E8F0FE;\n",
              "      border: none;\n",
              "      border-radius: 50%;\n",
              "      cursor: pointer;\n",
              "      display: none;\n",
              "      fill: #1967D2;\n",
              "      height: 32px;\n",
              "      padding: 0 0 0 0;\n",
              "      width: 32px;\n",
              "    }\n",
              "\n",
              "    .colab-df-convert:hover {\n",
              "      background-color: #E2EBFA;\n",
              "      box-shadow: 0px 1px 2px rgba(60, 64, 67, 0.3), 0px 1px 3px 1px rgba(60, 64, 67, 0.15);\n",
              "      fill: #174EA6;\n",
              "    }\n",
              "\n",
              "    [theme=dark] .colab-df-convert {\n",
              "      background-color: #3B4455;\n",
              "      fill: #D2E3FC;\n",
              "    }\n",
              "\n",
              "    [theme=dark] .colab-df-convert:hover {\n",
              "      background-color: #434B5C;\n",
              "      box-shadow: 0px 1px 3px 1px rgba(0, 0, 0, 0.15);\n",
              "      filter: drop-shadow(0px 1px 2px rgba(0, 0, 0, 0.3));\n",
              "      fill: #FFFFFF;\n",
              "    }\n",
              "  </style>\n",
              "\n",
              "      <script>\n",
              "        const buttonEl =\n",
              "          document.querySelector('#df-29c6878d-8d7c-425b-aa1d-d7edaabe75d6 button.colab-df-convert');\n",
              "        buttonEl.style.display =\n",
              "          google.colab.kernel.accessAllowed ? 'block' : 'none';\n",
              "\n",
              "        async function convertToInteractive(key) {\n",
              "          const element = document.querySelector('#df-29c6878d-8d7c-425b-aa1d-d7edaabe75d6');\n",
              "          const dataTable =\n",
              "            await google.colab.kernel.invokeFunction('convertToInteractive',\n",
              "                                                     [key], {});\n",
              "          if (!dataTable) return;\n",
              "\n",
              "          const docLinkHtml = 'Like what you see? Visit the ' +\n",
              "            '<a target=\"_blank\" href=https://colab.research.google.com/notebooks/data_table.ipynb>data table notebook</a>'\n",
              "            + ' to learn more about interactive tables.';\n",
              "          element.innerHTML = '';\n",
              "          dataTable['output_type'] = 'display_data';\n",
              "          await google.colab.output.renderOutput(dataTable, element);\n",
              "          const docLink = document.createElement('div');\n",
              "          docLink.innerHTML = docLinkHtml;\n",
              "          element.appendChild(docLink);\n",
              "        }\n",
              "      </script>\n",
              "    </div>\n",
              "  </div>\n",
              "  "
            ]
          },
          "metadata": {},
          "execution_count": 20
        }
      ]
    },
    {
      "cell_type": "code",
      "source": [
        ""
      ],
      "metadata": {
        "id": "DckL8QsD3cNp"
      },
      "execution_count": null,
      "outputs": []
    },
    {
      "cell_type": "code",
      "source": [
        "dataframe['Preço'].mean()"
      ],
      "metadata": {
        "colab": {
          "base_uri": "https://localhost:8080/"
        },
        "id": "LmktTHZWLmBv",
        "outputId": "63f40664-243b-4312-a49d-8e76ac3354d4"
      },
      "execution_count": 65,
      "outputs": [
        {
          "output_type": "execute_result",
          "data": {
            "text/plain": [
              "905.1547398581132"
            ]
          },
          "metadata": {},
          "execution_count": 65
        }
      ]
    },
    {
      "cell_type": "code",
      "source": [
        ""
      ],
      "metadata": {
        "id": "PIJXqWFp3VT0"
      },
      "execution_count": null,
      "outputs": []
    },
    {
      "cell_type": "code",
      "source": [
        "dataframe.groupby(['Preço']).agg('max').reset_index()"
      ],
      "metadata": {
        "colab": {
          "base_uri": "https://localhost:8080/",
          "height": 424
        },
        "id": "MW07rOteTmCB",
        "outputId": "5cc08c46-9e16-4dc3-d29e-3c8e5d3cac9f"
      },
      "execution_count": 49,
      "outputs": [
        {
          "output_type": "execute_result",
          "data": {
            "text/plain": [
              "         Preço idcompra idcanalvenda bandeira       Data  Preço_com_frete  \\\n",
              "0         6.32   218305       Mobile        B 2021-02-04            6.320   \n",
              "1         7.92   498880   Aplicativo        A 2021-08-04            7.920   \n",
              "2         8.00    87250       Mobile        B 2021-09-04            8.000   \n",
              "3         8.72   473245       Mobile        B 2021-09-04           10.496   \n",
              "4         9.52   255600     Internet        B 2021-06-04           11.112   \n",
              "...        ...      ...          ...      ...        ...              ...   \n",
              "2855  12691.24   292455     Internet        A 2021-02-04        12691.240   \n",
              "2856  12799.20     8110       Mobile        B 2021-07-04        12819.120   \n",
              "2857  13359.20   226835     Internet        A 2021-03-04        13359.200   \n",
              "2858  14391.20   272900       Mobile        B 2021-07-04        14407.120   \n",
              "2859  14439.24    64120     Internet        B 2021-03-30        14439.240   \n",
              "\n",
              "          Nome_Departamento estado cliente_Log  Idade       Renda Sexo  \n",
              "0                     Bebes     PR        3308     51      44.240    M  \n",
              "1                Automotivo     SP       65647     24      55.440    F  \n",
              "2     Telefones e Celulares     SP       61244     66      56.000    M  \n",
              "3                     Bebes     SP       57983     64      73.472    M  \n",
              "4                Brinquedos     SP       69805     56      77.784    M  \n",
              "...                     ...    ...         ...    ...         ...  ...  \n",
              "2855       Eletrodomesticos     SC       74692     35   88838.680    F  \n",
              "2856            Informatica     TO        9889     63   89733.840    M  \n",
              "2857       Eletrodomesticos     MS       76710     37   93514.400    M  \n",
              "2858       Eletrodomesticos     BA       40353     37  100849.840    M  \n",
              "2859       TVs e Acessorios     PR        9742     54  101074.680    M  \n",
              "\n",
              "[2860 rows x 12 columns]"
            ],
            "text/html": [
              "\n",
              "  <div id=\"df-d3fb5972-a3a1-451d-af4f-0ffd05b9038b\">\n",
              "    <div class=\"colab-df-container\">\n",
              "      <div>\n",
              "<style scoped>\n",
              "    .dataframe tbody tr th:only-of-type {\n",
              "        vertical-align: middle;\n",
              "    }\n",
              "\n",
              "    .dataframe tbody tr th {\n",
              "        vertical-align: top;\n",
              "    }\n",
              "\n",
              "    .dataframe thead th {\n",
              "        text-align: right;\n",
              "    }\n",
              "</style>\n",
              "<table border=\"1\" class=\"dataframe\">\n",
              "  <thead>\n",
              "    <tr style=\"text-align: right;\">\n",
              "      <th></th>\n",
              "      <th>Preço</th>\n",
              "      <th>idcompra</th>\n",
              "      <th>idcanalvenda</th>\n",
              "      <th>bandeira</th>\n",
              "      <th>Data</th>\n",
              "      <th>Preço_com_frete</th>\n",
              "      <th>Nome_Departamento</th>\n",
              "      <th>estado</th>\n",
              "      <th>cliente_Log</th>\n",
              "      <th>Idade</th>\n",
              "      <th>Renda</th>\n",
              "      <th>Sexo</th>\n",
              "    </tr>\n",
              "  </thead>\n",
              "  <tbody>\n",
              "    <tr>\n",
              "      <th>0</th>\n",
              "      <td>6.32</td>\n",
              "      <td>218305</td>\n",
              "      <td>Mobile</td>\n",
              "      <td>B</td>\n",
              "      <td>2021-02-04</td>\n",
              "      <td>6.320</td>\n",
              "      <td>Bebes</td>\n",
              "      <td>PR</td>\n",
              "      <td>3308</td>\n",
              "      <td>51</td>\n",
              "      <td>44.240</td>\n",
              "      <td>M</td>\n",
              "    </tr>\n",
              "    <tr>\n",
              "      <th>1</th>\n",
              "      <td>7.92</td>\n",
              "      <td>498880</td>\n",
              "      <td>Aplicativo</td>\n",
              "      <td>A</td>\n",
              "      <td>2021-08-04</td>\n",
              "      <td>7.920</td>\n",
              "      <td>Automotivo</td>\n",
              "      <td>SP</td>\n",
              "      <td>65647</td>\n",
              "      <td>24</td>\n",
              "      <td>55.440</td>\n",
              "      <td>F</td>\n",
              "    </tr>\n",
              "    <tr>\n",
              "      <th>2</th>\n",
              "      <td>8.00</td>\n",
              "      <td>87250</td>\n",
              "      <td>Mobile</td>\n",
              "      <td>B</td>\n",
              "      <td>2021-09-04</td>\n",
              "      <td>8.000</td>\n",
              "      <td>Telefones e Celulares</td>\n",
              "      <td>SP</td>\n",
              "      <td>61244</td>\n",
              "      <td>66</td>\n",
              "      <td>56.000</td>\n",
              "      <td>M</td>\n",
              "    </tr>\n",
              "    <tr>\n",
              "      <th>3</th>\n",
              "      <td>8.72</td>\n",
              "      <td>473245</td>\n",
              "      <td>Mobile</td>\n",
              "      <td>B</td>\n",
              "      <td>2021-09-04</td>\n",
              "      <td>10.496</td>\n",
              "      <td>Bebes</td>\n",
              "      <td>SP</td>\n",
              "      <td>57983</td>\n",
              "      <td>64</td>\n",
              "      <td>73.472</td>\n",
              "      <td>M</td>\n",
              "    </tr>\n",
              "    <tr>\n",
              "      <th>4</th>\n",
              "      <td>9.52</td>\n",
              "      <td>255600</td>\n",
              "      <td>Internet</td>\n",
              "      <td>B</td>\n",
              "      <td>2021-06-04</td>\n",
              "      <td>11.112</td>\n",
              "      <td>Brinquedos</td>\n",
              "      <td>SP</td>\n",
              "      <td>69805</td>\n",
              "      <td>56</td>\n",
              "      <td>77.784</td>\n",
              "      <td>M</td>\n",
              "    </tr>\n",
              "    <tr>\n",
              "      <th>...</th>\n",
              "      <td>...</td>\n",
              "      <td>...</td>\n",
              "      <td>...</td>\n",
              "      <td>...</td>\n",
              "      <td>...</td>\n",
              "      <td>...</td>\n",
              "      <td>...</td>\n",
              "      <td>...</td>\n",
              "      <td>...</td>\n",
              "      <td>...</td>\n",
              "      <td>...</td>\n",
              "      <td>...</td>\n",
              "    </tr>\n",
              "    <tr>\n",
              "      <th>2855</th>\n",
              "      <td>12691.24</td>\n",
              "      <td>292455</td>\n",
              "      <td>Internet</td>\n",
              "      <td>A</td>\n",
              "      <td>2021-02-04</td>\n",
              "      <td>12691.240</td>\n",
              "      <td>Eletrodomesticos</td>\n",
              "      <td>SC</td>\n",
              "      <td>74692</td>\n",
              "      <td>35</td>\n",
              "      <td>88838.680</td>\n",
              "      <td>F</td>\n",
              "    </tr>\n",
              "    <tr>\n",
              "      <th>2856</th>\n",
              "      <td>12799.20</td>\n",
              "      <td>8110</td>\n",
              "      <td>Mobile</td>\n",
              "      <td>B</td>\n",
              "      <td>2021-07-04</td>\n",
              "      <td>12819.120</td>\n",
              "      <td>Informatica</td>\n",
              "      <td>TO</td>\n",
              "      <td>9889</td>\n",
              "      <td>63</td>\n",
              "      <td>89733.840</td>\n",
              "      <td>M</td>\n",
              "    </tr>\n",
              "    <tr>\n",
              "      <th>2857</th>\n",
              "      <td>13359.20</td>\n",
              "      <td>226835</td>\n",
              "      <td>Internet</td>\n",
              "      <td>A</td>\n",
              "      <td>2021-03-04</td>\n",
              "      <td>13359.200</td>\n",
              "      <td>Eletrodomesticos</td>\n",
              "      <td>MS</td>\n",
              "      <td>76710</td>\n",
              "      <td>37</td>\n",
              "      <td>93514.400</td>\n",
              "      <td>M</td>\n",
              "    </tr>\n",
              "    <tr>\n",
              "      <th>2858</th>\n",
              "      <td>14391.20</td>\n",
              "      <td>272900</td>\n",
              "      <td>Mobile</td>\n",
              "      <td>B</td>\n",
              "      <td>2021-07-04</td>\n",
              "      <td>14407.120</td>\n",
              "      <td>Eletrodomesticos</td>\n",
              "      <td>BA</td>\n",
              "      <td>40353</td>\n",
              "      <td>37</td>\n",
              "      <td>100849.840</td>\n",
              "      <td>M</td>\n",
              "    </tr>\n",
              "    <tr>\n",
              "      <th>2859</th>\n",
              "      <td>14439.24</td>\n",
              "      <td>64120</td>\n",
              "      <td>Internet</td>\n",
              "      <td>B</td>\n",
              "      <td>2021-03-30</td>\n",
              "      <td>14439.240</td>\n",
              "      <td>TVs e Acessorios</td>\n",
              "      <td>PR</td>\n",
              "      <td>9742</td>\n",
              "      <td>54</td>\n",
              "      <td>101074.680</td>\n",
              "      <td>M</td>\n",
              "    </tr>\n",
              "  </tbody>\n",
              "</table>\n",
              "<p>2860 rows × 12 columns</p>\n",
              "</div>\n",
              "      <button class=\"colab-df-convert\" onclick=\"convertToInteractive('df-d3fb5972-a3a1-451d-af4f-0ffd05b9038b')\"\n",
              "              title=\"Convert this dataframe to an interactive table.\"\n",
              "              style=\"display:none;\">\n",
              "        \n",
              "  <svg xmlns=\"http://www.w3.org/2000/svg\" height=\"24px\"viewBox=\"0 0 24 24\"\n",
              "       width=\"24px\">\n",
              "    <path d=\"M0 0h24v24H0V0z\" fill=\"none\"/>\n",
              "    <path d=\"M18.56 5.44l.94 2.06.94-2.06 2.06-.94-2.06-.94-.94-2.06-.94 2.06-2.06.94zm-11 1L8.5 8.5l.94-2.06 2.06-.94-2.06-.94L8.5 2.5l-.94 2.06-2.06.94zm10 10l.94 2.06.94-2.06 2.06-.94-2.06-.94-.94-2.06-.94 2.06-2.06.94z\"/><path d=\"M17.41 7.96l-1.37-1.37c-.4-.4-.92-.59-1.43-.59-.52 0-1.04.2-1.43.59L10.3 9.45l-7.72 7.72c-.78.78-.78 2.05 0 2.83L4 21.41c.39.39.9.59 1.41.59.51 0 1.02-.2 1.41-.59l7.78-7.78 2.81-2.81c.8-.78.8-2.07 0-2.86zM5.41 20L4 18.59l7.72-7.72 1.47 1.35L5.41 20z\"/>\n",
              "  </svg>\n",
              "      </button>\n",
              "      \n",
              "  <style>\n",
              "    .colab-df-container {\n",
              "      display:flex;\n",
              "      flex-wrap:wrap;\n",
              "      gap: 12px;\n",
              "    }\n",
              "\n",
              "    .colab-df-convert {\n",
              "      background-color: #E8F0FE;\n",
              "      border: none;\n",
              "      border-radius: 50%;\n",
              "      cursor: pointer;\n",
              "      display: none;\n",
              "      fill: #1967D2;\n",
              "      height: 32px;\n",
              "      padding: 0 0 0 0;\n",
              "      width: 32px;\n",
              "    }\n",
              "\n",
              "    .colab-df-convert:hover {\n",
              "      background-color: #E2EBFA;\n",
              "      box-shadow: 0px 1px 2px rgba(60, 64, 67, 0.3), 0px 1px 3px 1px rgba(60, 64, 67, 0.15);\n",
              "      fill: #174EA6;\n",
              "    }\n",
              "\n",
              "    [theme=dark] .colab-df-convert {\n",
              "      background-color: #3B4455;\n",
              "      fill: #D2E3FC;\n",
              "    }\n",
              "\n",
              "    [theme=dark] .colab-df-convert:hover {\n",
              "      background-color: #434B5C;\n",
              "      box-shadow: 0px 1px 3px 1px rgba(0, 0, 0, 0.15);\n",
              "      filter: drop-shadow(0px 1px 2px rgba(0, 0, 0, 0.3));\n",
              "      fill: #FFFFFF;\n",
              "    }\n",
              "  </style>\n",
              "\n",
              "      <script>\n",
              "        const buttonEl =\n",
              "          document.querySelector('#df-d3fb5972-a3a1-451d-af4f-0ffd05b9038b button.colab-df-convert');\n",
              "        buttonEl.style.display =\n",
              "          google.colab.kernel.accessAllowed ? 'block' : 'none';\n",
              "\n",
              "        async function convertToInteractive(key) {\n",
              "          const element = document.querySelector('#df-d3fb5972-a3a1-451d-af4f-0ffd05b9038b');\n",
              "          const dataTable =\n",
              "            await google.colab.kernel.invokeFunction('convertToInteractive',\n",
              "                                                     [key], {});\n",
              "          if (!dataTable) return;\n",
              "\n",
              "          const docLinkHtml = 'Like what you see? Visit the ' +\n",
              "            '<a target=\"_blank\" href=https://colab.research.google.com/notebooks/data_table.ipynb>data table notebook</a>'\n",
              "            + ' to learn more about interactive tables.';\n",
              "          element.innerHTML = '';\n",
              "          dataTable['output_type'] = 'display_data';\n",
              "          await google.colab.output.renderOutput(dataTable, element);\n",
              "          const docLink = document.createElement('div');\n",
              "          docLink.innerHTML = docLinkHtml;\n",
              "          element.appendChild(docLink);\n",
              "        }\n",
              "      </script>\n",
              "    </div>\n",
              "  </div>\n",
              "  "
            ]
          },
          "metadata": {},
          "execution_count": 49
        }
      ]
    },
    {
      "cell_type": "code",
      "source": [
        "avg = dataframe.groupby(['idcanalvenda']).agg('mean').reset_index()\n",
        "ax = avg.plot.bar(x='idcanalvenda',y='Preço')"
      ],
      "metadata": {
        "colab": {
          "base_uri": "https://localhost:8080/",
          "height": 318
        },
        "id": "ZCXIO6I5MF-9",
        "outputId": "f519fce7-0650-4d3c-f320-7014e498ccb3"
      },
      "execution_count": 19,
      "outputs": [
        {
          "output_type": "display_data",
          "data": {
            "text/plain": [
              "<Figure size 432x288 with 1 Axes>"
            ],
            "image/png": "[encoded data removed]"
          },
          "metadata": {
            "needs_background": "light"
          }
        }
      ]
    },
    {
      "cell_type": "code",
      "source": [
        "fig = plt.figure()\n",
        "\n",
        "plt.bar(avg_idade['Idade'], avg_idade['Preço'])\n",
        "\n",
        "plt.ylabel('Preço médio')\n",
        "\n",
        "\n",
        "plt.suptitle('Idade por preço', fontsize = 18, fontweight = 'bold', x = 0.36)\n",
        "plt.title('Idade_por_preço', loc = 'left')"
      ],
      "metadata": {
        "colab": {
          "base_uri": "https://localhost:8080/",
          "height": 311
        },
        "id": "YAZmbJrGpbXs",
        "outputId": "f8f9ec85-ec7c-4bac-aa37-e874458762ca"
      },
      "execution_count": 56,
      "outputs": [
        {
          "output_type": "execute_result",
          "data": {
            "text/plain": [
              "Text(0.0, 1.0, 'Idade_por_preço')"
            ]
          },
          "metadata": {},
          "execution_count": 56
        },
        {
          "output_type": "display_data",
          "data": {
            "text/plain": [
              "<Figure size 432x288 with 1 Axes>"
            ],
            "image/png": "[encoded data removed]"
          },
          "metadata": {
            "needs_background": "light"
          }
        }
      ]
    },
    {
      "cell_type": "code",
      "source": [
        "avg_idade = dataframe.groupby(['Idade']).agg('mean').reset_index()\n",
        "ax = avg_idade.plot.bar(x='Idade',y='Preço')"
      ],
      "metadata": {
        "colab": {
          "base_uri": "https://localhost:8080/",
          "height": 282
        },
        "id": "j60LizZOoyYf",
        "outputId": "adaa1a63-4002-438b-cee3-b4ed05e666e7"
      },
      "execution_count": 51,
      "outputs": [
        {
          "output_type": "display_data",
          "data": {
            "text/plain": [
              "<Figure size 432x288 with 1 Axes>"
            ],
            "image/png": "[encoded data removed]"
          },
          "metadata": {
            "needs_background": "light"
          }
        }
      ]
    },
    {
      "cell_type": "code",
      "source": [
        "dataframe.head()"
      ],
      "metadata": {
        "colab": {
          "base_uri": "https://localhost:8080/",
          "height": 206
        },
        "id": "_B4A62AeRTWP",
        "outputId": "87e02edc-e261-476c-ce6f-972628d100f6"
      },
      "execution_count": null,
      "outputs": [
        {
          "output_type": "execute_result",
          "data": {
            "text/plain": [
              "  idcompra idcanalvenda bandeira       Data     Preco  Preco_com_frete  \\\n",
              "0   393835       Mobile        A 2021-03-30   791.280          791.280   \n",
              "1   411885       Mobile        A 2021-03-30   679.200          679.200   \n",
              "2   437305       Mobile        A 2021-03-30    37.512           37.512   \n",
              "3   440055   Aplicativo        A 2021-03-30  2239.416         2239.416   \n",
              "4   455795       Mobile        B 2021-03-30  1785.112         1785.112   \n",
              "\n",
              "       Nome_Departamento estado cliente_Log  \n",
              "0  Telefones e Celulares     SP           1  \n",
              "1                Tablets     SP           2  \n",
              "2                  Bebes     SP           3  \n",
              "3       TVs e Acessorios     SP           4  \n",
              "4        Esporte e Lazer     RS           5  "
            ],
            "text/html": [
              "\n",
              "  <div id=\"df-3a1de6db-1115-4b1a-ad6e-1c38076d541e\">\n",
              "    <div class=\"colab-df-container\">\n",
              "      <div>\n",
              "<style scoped>\n",
              "    .dataframe tbody tr th:only-of-type {\n",
              "        vertical-align: middle;\n",
              "    }\n",
              "\n",
              "    .dataframe tbody tr th {\n",
              "        vertical-align: top;\n",
              "    }\n",
              "\n",
              "    .dataframe thead th {\n",
              "        text-align: right;\n",
              "    }\n",
              "</style>\n",
              "<table border=\"1\" class=\"dataframe\">\n",
              "  <thead>\n",
              "    <tr style=\"text-align: right;\">\n",
              "      <th></th>\n",
              "      <th>idcompra</th>\n",
              "      <th>idcanalvenda</th>\n",
              "      <th>bandeira</th>\n",
              "      <th>Data</th>\n",
              "      <th>Preco</th>\n",
              "      <th>Preco_com_frete</th>\n",
              "      <th>Nome_Departamento</th>\n",
              "      <th>estado</th>\n",
              "      <th>cliente_Log</th>\n",
              "    </tr>\n",
              "  </thead>\n",
              "  <tbody>\n",
              "    <tr>\n",
              "      <th>0</th>\n",
              "      <td>393835</td>\n",
              "      <td>Mobile</td>\n",
              "      <td>A</td>\n",
              "      <td>2021-03-30</td>\n",
              "      <td>791.280</td>\n",
              "      <td>791.280</td>\n",
              "      <td>Telefones e Celulares</td>\n",
              "      <td>SP</td>\n",
              "      <td>1</td>\n",
              "    </tr>\n",
              "    <tr>\n",
              "      <th>1</th>\n",
              "      <td>411885</td>\n",
              "      <td>Mobile</td>\n",
              "      <td>A</td>\n",
              "      <td>2021-03-30</td>\n",
              "      <td>679.200</td>\n",
              "      <td>679.200</td>\n",
              "      <td>Tablets</td>\n",
              "      <td>SP</td>\n",
              "      <td>2</td>\n",
              "    </tr>\n",
              "    <tr>\n",
              "      <th>2</th>\n",
              "      <td>437305</td>\n",
              "      <td>Mobile</td>\n",
              "      <td>A</td>\n",
              "      <td>2021-03-30</td>\n",
              "      <td>37.512</td>\n",
              "      <td>37.512</td>\n",
              "      <td>Bebes</td>\n",
              "      <td>SP</td>\n",
              "      <td>3</td>\n",
              "    </tr>\n",
              "    <tr>\n",
              "      <th>3</th>\n",
              "      <td>440055</td>\n",
              "      <td>Aplicativo</td>\n",
              "      <td>A</td>\n",
              "      <td>2021-03-30</td>\n",
              "      <td>2239.416</td>\n",
              "      <td>2239.416</td>\n",
              "      <td>TVs e Acessorios</td>\n",
              "      <td>SP</td>\n",
              "      <td>4</td>\n",
              "    </tr>\n",
              "    <tr>\n",
              "      <th>4</th>\n",
              "      <td>455795</td>\n",
              "      <td>Mobile</td>\n",
              "      <td>B</td>\n",
              "      <td>2021-03-30</td>\n",
              "      <td>1785.112</td>\n",
              "      <td>1785.112</td>\n",
              "      <td>Esporte e Lazer</td>\n",
              "      <td>RS</td>\n",
              "      <td>5</td>\n",
              "    </tr>\n",
              "  </tbody>\n",
              "</table>\n",
              "</div>\n",
              "      <button class=\"colab-df-convert\" onclick=\"convertToInteractive('df-3a1de6db-1115-4b1a-ad6e-1c38076d541e')\"\n",
              "              title=\"Convert this dataframe to an interactive table.\"\n",
              "              style=\"display:none;\">\n",
              "        \n",
              "  <svg xmlns=\"http://www.w3.org/2000/svg\" height=\"24px\"viewBox=\"0 0 24 24\"\n",
              "       width=\"24px\">\n",
              "    <path d=\"M0 0h24v24H0V0z\" fill=\"none\"/>\n",
              "    <path d=\"M18.56 5.44l.94 2.06.94-2.06 2.06-.94-2.06-.94-.94-2.06-.94 2.06-2.06.94zm-11 1L8.5 8.5l.94-2.06 2.06-.94-2.06-.94L8.5 2.5l-.94 2.06-2.06.94zm10 10l.94 2.06.94-2.06 2.06-.94-2.06-.94-.94-2.06-.94 2.06-2.06.94z\"/><path d=\"M17.41 7.96l-1.37-1.37c-.4-.4-.92-.59-1.43-.59-.52 0-1.04.2-1.43.59L10.3 9.45l-7.72 7.72c-.78.78-.78 2.05 0 2.83L4 21.41c.39.39.9.59 1.41.59.51 0 1.02-.2 1.41-.59l7.78-7.78 2.81-2.81c.8-.78.8-2.07 0-2.86zM5.41 20L4 18.59l7.72-7.72 1.47 1.35L5.41 20z\"/>\n",
              "  </svg>\n",
              "      </button>\n",
              "      \n",
              "  <style>\n",
              "    .colab-df-container {\n",
              "      display:flex;\n",
              "      flex-wrap:wrap;\n",
              "      gap: 12px;\n",
              "    }\n",
              "\n",
              "    .colab-df-convert {\n",
              "      background-color: #E8F0FE;\n",
              "      border: none;\n",
              "      border-radius: 50%;\n",
              "      cursor: pointer;\n",
              "      display: none;\n",
              "      fill: #1967D2;\n",
              "      height: 32px;\n",
              "      padding: 0 0 0 0;\n",
              "      width: 32px;\n",
              "    }\n",
              "\n",
              "    .colab-df-convert:hover {\n",
              "      background-color: #E2EBFA;\n",
              "      box-shadow: 0px 1px 2px rgba(60, 64, 67, 0.3), 0px 1px 3px 1px rgba(60, 64, 67, 0.15);\n",
              "      fill: #174EA6;\n",
              "    }\n",
              "\n",
              "    [theme=dark] .colab-df-convert {\n",
              "      background-color: #3B4455;\n",
              "      fill: #D2E3FC;\n",
              "    }\n",
              "\n",
              "    [theme=dark] .colab-df-convert:hover {\n",
              "      background-color: #434B5C;\n",
              "      box-shadow: 0px 1px 3px 1px rgba(0, 0, 0, 0.15);\n",
              "      filter: drop-shadow(0px 1px 2px rgba(0, 0, 0, 0.3));\n",
              "      fill: #FFFFFF;\n",
              "    }\n",
              "  </style>\n",
              "\n",
              "      <script>\n",
              "        const buttonEl =\n",
              "          document.querySelector('#df-3a1de6db-1115-4b1a-ad6e-1c38076d541e button.colab-df-convert');\n",
              "        buttonEl.style.display =\n",
              "          google.colab.kernel.accessAllowed ? 'block' : 'none';\n",
              "\n",
              "        async function convertToInteractive(key) {\n",
              "          const element = document.querySelector('#df-3a1de6db-1115-4b1a-ad6e-1c38076d541e');\n",
              "          const dataTable =\n",
              "            await google.colab.kernel.invokeFunction('convertToInteractive',\n",
              "                                                     [key], {});\n",
              "          if (!dataTable) return;\n",
              "\n",
              "          const docLinkHtml = 'Like what you see? Visit the ' +\n",
              "            '<a target=\"_blank\" href=https://colab.research.google.com/notebooks/data_table.ipynb>data table notebook</a>'\n",
              "            + ' to learn more about interactive tables.';\n",
              "          element.innerHTML = '';\n",
              "          dataTable['output_type'] = 'display_data';\n",
              "          await google.colab.output.renderOutput(dataTable, element);\n",
              "          const docLink = document.createElement('div');\n",
              "          docLink.innerHTML = docLinkHtml;\n",
              "          element.appendChild(docLink);\n",
              "        }\n",
              "      </script>\n",
              "    </div>\n",
              "  </div>\n",
              "  "
            ]
          },
          "metadata": {},
          "execution_count": 52
        }
      ]
    },
    {
      "cell_type": "code",
      "source": [
        "dataframe['Preço'].std()"
      ],
      "metadata": {
        "colab": {
          "base_uri": "https://localhost:8080/"
        },
        "id": "-HALwwUIMf2V",
        "outputId": "17fe0910-bba8-4d82-8933-cf56e10acdda"
      },
      "execution_count": 21,
      "outputs": [
        {
          "output_type": "execute_result",
          "data": {
            "text/plain": [
              "1057.633538658652"
            ]
          },
          "metadata": {},
          "execution_count": 21
        }
      ]
    },
    {
      "cell_type": "code",
      "source": [
        "std_sp = dataframe[(dataframe['estado']=='SP') & (dataframe['Nome_Departamento']=='Bebes')]\n",
        "std_sp['Preço'].std()"
      ],
      "metadata": {
        "colab": {
          "base_uri": "https://localhost:8080/"
        },
        "id": "p86B1H64irDW",
        "outputId": "1447673d-58e6-49d5-ebba-9024918bdf42"
      },
      "execution_count": 66,
      "outputs": [
        {
          "output_type": "execute_result",
          "data": {
            "text/plain": [
              "128.00325619526058"
            ]
          },
          "metadata": {},
          "execution_count": 66
        }
      ]
    },
    {
      "cell_type": "code",
      "source": [
        "std_sp['Preço'].var()"
      ],
      "metadata": {
        "colab": {
          "base_uri": "https://localhost:8080/"
        },
        "id": "DdXpljfKiKrI",
        "outputId": "6a88729c-e37b-433a-b7f0-db9183a6f2aa"
      },
      "execution_count": 28,
      "outputs": [
        {
          "output_type": "execute_result",
          "data": {
            "text/plain": [
              "510171.3039663734"
            ]
          },
          "metadata": {},
          "execution_count": 28
        }
      ]
    },
    {
      "cell_type": "code",
      "source": [
        "\n",
        "dataframe.corr()"
      ],
      "metadata": {
        "colab": {
          "base_uri": "https://localhost:8080/",
          "height": 175
        },
        "id": "c9QVyr1EQ_b3",
        "outputId": "35dcea8e-f9a1-4cdd-ce72-ae72c6312e6a"
      },
      "execution_count": 67,
      "outputs": [
        {
          "output_type": "execute_result",
          "data": {
            "text/plain": [
              "                    Preço  Preço_com_frete     Idade     Renda\n",
              "Preço            1.000000         0.999940  0.006488  0.999940\n",
              "Preço_com_frete  0.999940         1.000000  0.006465  1.000000\n",
              "Idade            0.006488         0.006465  1.000000  0.006465\n",
              "Renda            0.999940         1.000000  0.006465  1.000000"
            ],
            "text/html": [
              "\n",
              "  <div id=\"df-1cd1c2d6-85f6-4e21-8c49-b10e3dc596ab\">\n",
              "    <div class=\"colab-df-container\">\n",
              "      <div>\n",
              "<style scoped>\n",
              "    .dataframe tbody tr th:only-of-type {\n",
              "        vertical-align: middle;\n",
              "    }\n",
              "\n",
              "    .dataframe tbody tr th {\n",
              "        vertical-align: top;\n",
              "    }\n",
              "\n",
              "    .dataframe thead th {\n",
              "        text-align: right;\n",
              "    }\n",
              "</style>\n",
              "<table border=\"1\" class=\"dataframe\">\n",
              "  <thead>\n",
              "    <tr style=\"text-align: right;\">\n",
              "      <th></th>\n",
              "      <th>Preço</th>\n",
              "      <th>Preço_com_frete</th>\n",
              "      <th>Idade</th>\n",
              "      <th>Renda</th>\n",
              "    </tr>\n",
              "  </thead>\n",
              "  <tbody>\n",
              "    <tr>\n",
              "      <th>Preço</th>\n",
              "      <td>1.000000</td>\n",
              "      <td>0.999940</td>\n",
              "      <td>0.006488</td>\n",
              "      <td>0.999940</td>\n",
              "    </tr>\n",
              "    <tr>\n",
              "      <th>Preço_com_frete</th>\n",
              "      <td>0.999940</td>\n",
              "      <td>1.000000</td>\n",
              "      <td>0.006465</td>\n",
              "      <td>1.000000</td>\n",
              "    </tr>\n",
              "    <tr>\n",
              "      <th>Idade</th>\n",
              "      <td>0.006488</td>\n",
              "      <td>0.006465</td>\n",
              "      <td>1.000000</td>\n",
              "      <td>0.006465</td>\n",
              "    </tr>\n",
              "    <tr>\n",
              "      <th>Renda</th>\n",
              "      <td>0.999940</td>\n",
              "      <td>1.000000</td>\n",
              "      <td>0.006465</td>\n",
              "      <td>1.000000</td>\n",
              "    </tr>\n",
              "  </tbody>\n",
              "</table>\n",
              "</div>\n",
              "      <button class=\"colab-df-convert\" onclick=\"convertToInteractive('df-1cd1c2d6-85f6-4e21-8c49-b10e3dc596ab')\"\n",
              "              title=\"Convert this dataframe to an interactive table.\"\n",
              "              style=\"display:none;\">\n",
              "        \n",
              "  <svg xmlns=\"http://www.w3.org/2000/svg\" height=\"24px\"viewBox=\"0 0 24 24\"\n",
              "       width=\"24px\">\n",
              "    <path d=\"M0 0h24v24H0V0z\" fill=\"none\"/>\n",
              "    <path d=\"M18.56 5.44l.94 2.06.94-2.06 2.06-.94-2.06-.94-.94-2.06-.94 2.06-2.06.94zm-11 1L8.5 8.5l.94-2.06 2.06-.94-2.06-.94L8.5 2.5l-.94 2.06-2.06.94zm10 10l.94 2.06.94-2.06 2.06-.94-2.06-.94-.94-2.06-.94 2.06-2.06.94z\"/><path d=\"M17.41 7.96l-1.37-1.37c-.4-.4-.92-.59-1.43-.59-.52 0-1.04.2-1.43.59L10.3 9.45l-7.72 7.72c-.78.78-.78 2.05 0 2.83L4 21.41c.39.39.9.59 1.41.59.51 0 1.02-.2 1.41-.59l7.78-7.78 2.81-2.81c.8-.78.8-2.07 0-2.86zM5.41 20L4 18.59l7.72-7.72 1.47 1.35L5.41 20z\"/>\n",
              "  </svg>\n",
              "      </button>\n",
              "      \n",
              "  <style>\n",
              "    .colab-df-container {\n",
              "      display:flex;\n",
              "      flex-wrap:wrap;\n",
              "      gap: 12px;\n",
              "    }\n",
              "\n",
              "    .colab-df-convert {\n",
              "      background-color: #E8F0FE;\n",
              "      border: none;\n",
              "      border-radius: 50%;\n",
              "      cursor: pointer;\n",
              "      display: none;\n",
              "      fill: #1967D2;\n",
              "      height: 32px;\n",
              "      padding: 0 0 0 0;\n",
              "      width: 32px;\n",
              "    }\n",
              "\n",
              "    .colab-df-convert:hover {\n",
              "      background-color: #E2EBFA;\n",
              "      box-shadow: 0px 1px 2px rgba(60, 64, 67, 0.3), 0px 1px 3px 1px rgba(60, 64, 67, 0.15);\n",
              "      fill: #174EA6;\n",
              "    }\n",
              "\n",
              "    [theme=dark] .colab-df-convert {\n",
              "      background-color: #3B4455;\n",
              "      fill: #D2E3FC;\n",
              "    }\n",
              "\n",
              "    [theme=dark] .colab-df-convert:hover {\n",
              "      background-color: #434B5C;\n",
              "      box-shadow: 0px 1px 3px 1px rgba(0, 0, 0, 0.15);\n",
              "      filter: drop-shadow(0px 1px 2px rgba(0, 0, 0, 0.3));\n",
              "      fill: #FFFFFF;\n",
              "    }\n",
              "  </style>\n",
              "\n",
              "      <script>\n",
              "        const buttonEl =\n",
              "          document.querySelector('#df-1cd1c2d6-85f6-4e21-8c49-b10e3dc596ab button.colab-df-convert');\n",
              "        buttonEl.style.display =\n",
              "          google.colab.kernel.accessAllowed ? 'block' : 'none';\n",
              "\n",
              "        async function convertToInteractive(key) {\n",
              "          const element = document.querySelector('#df-1cd1c2d6-85f6-4e21-8c49-b10e3dc596ab');\n",
              "          const dataTable =\n",
              "            await google.colab.kernel.invokeFunction('convertToInteractive',\n",
              "                                                     [key], {});\n",
              "          if (!dataTable) return;\n",
              "\n",
              "          const docLinkHtml = 'Like what you see? Visit the ' +\n",
              "            '<a target=\"_blank\" href=https://colab.research.google.com/notebooks/data_table.ipynb>data table notebook</a>'\n",
              "            + ' to learn more about interactive tables.';\n",
              "          element.innerHTML = '';\n",
              "          dataTable['output_type'] = 'display_data';\n",
              "          await google.colab.output.renderOutput(dataTable, element);\n",
              "          const docLink = document.createElement('div');\n",
              "          docLink.innerHTML = docLinkHtml;\n",
              "          element.appendChild(docLink);\n",
              "        }\n",
              "      </script>\n",
              "    </div>\n",
              "  </div>\n",
              "  "
            ]
          },
          "metadata": {},
          "execution_count": 67
        }
      ]
    },
    {
      "cell_type": "code",
      "source": [
        "std_sp.boxplot(column=['Preço'])"
      ],
      "metadata": {
        "colab": {
          "base_uri": "https://localhost:8080/",
          "height": 282
        },
        "id": "DVDeM4cQmAq4",
        "outputId": "149b1d3c-c16c-4ce5-ba56-3cf9a47b48cf"
      },
      "execution_count": 32,
      "outputs": [
        {
          "output_type": "execute_result",
          "data": {
            "text/plain": [
              "<matplotlib.axes._subplots.AxesSubplot at 0x7f47e9556a10>"
            ]
          },
          "metadata": {},
          "execution_count": 32
        },
        {
          "output_type": "display_data",
          "data": {
            "text/plain": [
              "<Figure size 432x288 with 1 Axes>"
            ],
            "image/png": "[encoded data removed]"
          },
          "metadata": {
            "needs_background": "light"
          }
        }
      ]
    },
    {
      "cell_type": "code",
      "source": [
        "dataframe.boxplot(column=['Idade'])"
      ],
      "metadata": {
        "colab": {
          "base_uri": "https://localhost:8080/",
          "height": 282
        },
        "id": "K3UvTun1mmuy",
        "outputId": "3b986c66-8616-424e-ce01-61a377234b1e"
      },
      "execution_count": 37,
      "outputs": [
        {
          "output_type": "execute_result",
          "data": {
            "text/plain": [
              "<matplotlib.axes._subplots.AxesSubplot at 0x7f47daab8850>"
            ]
          },
          "metadata": {},
          "execution_count": 37
        },
        {
          "output_type": "display_data",
          "data": {
            "text/plain": [
              "<Figure size 432x288 with 1 Axes>"
            ],
            "image/png": "[encoded data removed]"
          },
          "metadata": {
            "needs_background": "light"
          }
        }
      ]
    },
    {
      "cell_type": "code",
      "source": [
        "# Plot figura em branco\n",
        "fig = plt.figure()\n",
        "\n",
        "# Plota o gráfico de box plot\n",
        "\n",
        "plt.boxplot(std_sp['Idade'])\n",
        "\n",
        "plt.ylabel('Idade')\n",
        "\n",
        "# Remove o valor do eixo x\n",
        "plt.xticks([1], [''])\n",
        "\n",
        "# Remove o tick do eixo x\n",
        "plt.tick_params(axis = \"x\", which = \"both\", bottom = False, top = False)\n",
        "\n",
        "plt.suptitle('Idade dos clientes', fontsize = 16, fontweight = 'bold', x = 0.445)\n",
        "plt.title('Idade dos clientes', loc = 'left')"
      ],
      "metadata": {
        "colab": {
          "base_uri": "https://localhost:8080/",
          "height": 294
        },
        "id": "2UEKjPHBmNQP",
        "outputId": "a0dab9d7-1c82-4fbb-ed0c-0019d53e6b09"
      },
      "execution_count": 36,
      "outputs": [
        {
          "output_type": "execute_result",
          "data": {
            "text/plain": [
              "Text(0.0, 1.0, 'Idade dos clientes')"
            ]
          },
          "metadata": {},
          "execution_count": 36
        },
        {
          "output_type": "display_data",
          "data": {
            "text/plain": [
              "<Figure size 432x288 with 1 Axes>"
            ],
            "image/png": "[encoded data removed]"
          },
          "metadata": {
            "needs_background": "light"
          }
        }
      ]
    },
    {
      "cell_type": "code",
      "source": [
        "fig = plt.figure()\n",
        "\n",
        "plt.bar(std_sp['Preço'], std_sp['Preço'])\n",
        "\n",
        "plt.ylabel('Idade')\n",
        "\n",
        "# Remove o valor do eixo x\n",
        "plt.xticks([1], [''])\n",
        "\n",
        "# Remove o tick do eixo x\n",
        "plt.tick_params(axis = \"x\", which = \"both\", bottom = False, top = False)\n",
        "\n",
        "plt.suptitle('Idade por preço', fontsize = 18, fontweight = 'bold', x = 0.36)\n",
        "plt.title('Idade_por_preço', loc = 'left')"
      ],
      "metadata": {
        "id": "__gpeU9nVaRY",
        "colab": {
          "base_uri": "https://localhost:8080/",
          "height": 300
        },
        "outputId": "53f8b83e-b993-4ad8-bd70-7e4cdf7be05e"
      },
      "execution_count": 42,
      "outputs": [
        {
          "output_type": "execute_result",
          "data": {
            "text/plain": [
              "Text(0.0, 1.0, 'Idade_por_preço')"
            ]
          },
          "metadata": {},
          "execution_count": 42
        },
        {
          "output_type": "display_data",
          "data": {
            "text/plain": [
              "<Figure size 432x288 with 1 Axes>"
            ],
            "image/png": "[encoded data removed]"
          },
          "metadata": {
            "needs_background": "light"
          }
        }
      ]
    },
    {
      "cell_type": "code",
      "source": [
        ""
      ],
      "metadata": {
        "id": "3HrJEXBioT1l"
      },
      "execution_count": null,
      "outputs": []
    }
  ]
}